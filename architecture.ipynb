{
  "nbformat": 4,
  "nbformat_minor": 0,
  "metadata": {
    "colab": {
      "provenance": [],
      "gpuType": "T4",
      "authorship_tag": "ABX9TyOfJFj4Fvi34T1CuMaYVdYo"
    },
    "kernelspec": {
      "name": "python3",
      "display_name": "Python 3"
    },
    "language_info": {
      "name": "python"
    },
    "accelerator": "GPU"
  },
  "cells": [
    {
      "cell_type": "code",
      "source": [
        "# =========================================\n",
        "# 1. Preparación del entorno\n",
        "# =========================================\n",
        "!pip install -q transformers accelerate bitsandbytes peft datasets\n",
        "\n",
        "from google.colab import drive\n",
        "drive.mount('/content/drive')  # opcional: guardar resultados en tu Drive"
      ],
      "metadata": {
        "id": "LxLiaMCrUmPB"
      },
      "execution_count": null,
      "outputs": []
    },
    {
      "cell_type": "code",
      "source": [
        "# =========================================\n",
        "# 2. Imports\n",
        "# =========================================\n",
        "from datasets import load_dataset\n",
        "from transformers import AutoTokenizer, AutoModelForCausalLM, TrainingArguments, Trainer\n",
        "from peft import LoraConfig, get_peft_model, prepare_model_for_kbit_training"
      ],
      "metadata": {
        "id": "Tw0BMtrzU2rX"
      },
      "execution_count": null,
      "outputs": []
    },
    {
      "cell_type": "code",
      "source": [
        "# =========================================\n",
        "# 3. Modelo base (Mistral 7B Instruct)\n",
        "# =========================================\n",
        "model_name = \"mistralai/Mistral-7B-Instruct-v0.2\"\n",
        "\n",
        "tokenizer = AutoTokenizer.from_pretrained(model_name)\n",
        "model = AutoModelForCausalLM.from_pretrained(\n",
        "    model_name,\n",
        "    load_in_4bit=True,\n",
        "    device_map=\"auto\"\n",
        ")\n",
        "\n",
        "# Preparar modelo para fine-tuning LoRA\n",
        "model = prepare_model_for_kbit_training(model)\n",
        "\n",
        "lora_config = LoraConfig(\n",
        "    r=8,\n",
        "    lora_alpha=16,\n",
        "    target_modules=[\"q_proj\",\"v_proj\"],\n",
        "    lora_dropout=0.05,\n",
        "    bias=\"none\",\n",
        "    task_type=\"CAUSAL_LM\"\n",
        ")\n",
        "\n",
        "model = get_peft_model(model, lora_config)"
      ],
      "metadata": {
        "id": "b5XygqGDVFEF"
      },
      "execution_count": null,
      "outputs": []
    },
    {
      "cell_type": "code",
      "source": [
        "# =========================================\n",
        "# 4. Dataset Vegeta-like (ejemplo mini)\n",
        "#    👉 Reemplaza con tu propio archivo JSONL\n",
        "# =========================================\n",
        "sample_data = [\n",
        "    {\n",
        "      \"instruction\": \"Usuario: ¿Cómo puedo motivarme para entrenar hoy?\",\n",
        "      \"response\": \"¿Motivarte? ¡Tsk! Los débiles buscan excusas. Ponte de pie y demuestra que no eres un insecto.\"\n",
        "    },\n",
        "    {\n",
        "      \"instruction\": \"Usuario: Dame un consejo para hacer sentadillas\",\n",
        "      \"response\": \"¡Espalda recta, pecho arriba! Si no bajas hasta el paralelo, ni te atrevas a llamarlo entrenamiento.\"\n",
        "    },\n",
        "    {\n",
        "      \"instruction\": \"Usuario: Estoy cansado, ¿debería parar?\",\n",
        "      \"response\": \"¿Parar? ¡Ridículo! Solo cuando superes tu límite empezarás a ser digno. Haz al menos otra serie.\"\n",
        "    }\n",
        "]\n",
        "\n",
        "import json\n",
        "with open(\"vegeta_dataset.jsonl\", \"w\") as f:\n",
        "    for row in sample_data:\n",
        "        f.write(json.dumps(row) + \"\\n\")\n",
        "\n",
        "dataset = load_dataset(\"json\", data_files=\"vegeta_dataset.jsonl\")\n",
        "\n",
        "def format_example(example):\n",
        "    return {\"text\": f\"{example['instruction']}\\nVegeta: {example['response']}\"}\n",
        "\n",
        "dataset = dataset.map(format_example)\n",
        "train_data = dataset[\"train\"]"
      ],
      "metadata": {
        "id": "WqAb2UjaVIut"
      },
      "execution_count": null,
      "outputs": []
    },
    {
      "cell_type": "code",
      "source": [
        "=========================================\n",
        "# 5. Entrenamiento LoRA\n",
        "# =========================================\n",
        "training_args = TrainingArguments(\n",
        "    output_dir=\"./vegeta-lora\",\n",
        "    per_device_train_batch_size=2,\n",
        "    gradient_accumulation_steps=4,\n",
        "    learning_rate=2e-4,\n",
        "    num_train_epochs=3,\n",
        "    logging_steps=10,\n",
        "    save_strategy=\"epoch\",\n",
        "    fp16=True\n",
        ")\n",
        "\n",
        "trainer = Trainer(\n",
        "    model=model,\n",
        "    args=training_args,\n",
        "    train_dataset=train_data,\n",
        "    tokenizer=tokenizer\n",
        ")\n",
        "\n",
        "trainer.train()\n",
        "\n",
        "# Guardar LoRA en Drive\n",
        "model.save_pretrained(\"/content/drive/MyDrive/vegeta-lora\")"
      ],
      "metadata": {
        "id": "l2RIxKTpVaGR"
      },
      "execution_count": null,
      "outputs": []
    },
    {
      "cell_type": "code",
      "source": [
        "# =========================================\n",
        "# 6. Uso del modelo Vegeta\n",
        "# =========================================\n",
        "from peft import PeftModel\n",
        "\n",
        "base_model = AutoModelForCausalLM.from_pretrained(model_name, load_in_4bit=True, device_map=\"auto\")\n",
        "model = PeftModel.from_pretrained(base_model, \"/content/drive/MyDrive/vegeta-lora\")\n",
        "tokenizer = AutoTokenizer.from_pretrained(model_name)\n",
        "\n",
        "prompt = \"Usuario: No quiero hacer más, estoy cansado.\\nVegeta:\"\n",
        "inputs = tokenizer(prompt, return_tensors=\"pt\").to(\"cuda\")\n",
        "outputs = model.generate(**inputs, max_new_tokens=80)\n",
        "print(tokenizer.decode(outputs[0], skip_special_tokens=True))"
      ],
      "metadata": {
        "id": "lzx-_NtfVhRQ"
      },
      "execution_count": null,
      "outputs": []
    }
  ]
}