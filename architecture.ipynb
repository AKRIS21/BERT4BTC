{
  "nbformat": 4,
  "nbformat_minor": 0,
  "metadata": {
    "colab": {
      "provenance": [],
      "gpuType": "T4",
      "authorship_tag": "ABX9TyPiioFXuJtbN1FqFtdY4lpw"
    },
    "kernelspec": {
      "name": "python3",
      "display_name": "Python 3"
    },
    "language_info": {
      "name": "python"
    },
    "accelerator": "GPU"
  },
  "cells": [
    {
      "cell_type": "code",
      "source": [
        "# =========================================\n",
        "# 1. Preparación del entorno\n",
        "# =========================================\n",
        "!pip install -q transformers accelerate bitsandbytes peft datasets\n"
      ],
      "metadata": {
        "id": "LxLiaMCrUmPB",
        "colab": {
          "base_uri": "https://localhost:8080/"
        },
        "outputId": "37fe9b2c-3e72-4682-d596-e5efd4b56553"
      },
      "execution_count": null,
      "outputs": [
        {
          "output_type": "stream",
          "name": "stdout",
          "text": [
            "\u001b[2K   \u001b[90m━━━━━━━━━━━━━━━━━━━━━━━━━━━━━━━━━━━━━━━━\u001b[0m \u001b[32m61.3/61.3 MB\u001b[0m \u001b[31m9.0 MB/s\u001b[0m eta \u001b[36m0:00:00\u001b[0m\n",
            "\u001b[?25h"
          ]
        }
      ]
    },
    {
      "cell_type": "code",
      "source": [
        "# =========================================\n",
        "# 2. Imports\n",
        "# =========================================\n",
        "from datasets import load_dataset\n",
        "from transformers import AutoTokenizer, AutoModelForCausalLM, TrainingArguments, Trainer\n",
        "#Parameter efficient fine tunning\n",
        "from peft import LoraConfig, get_peft_model, prepare_model_for_kbit_training"
      ],
      "metadata": {
        "id": "Tw0BMtrzU2rX"
      },
      "execution_count": null,
      "outputs": []
    },
    {
      "cell_type": "code",
      "source": [
        "# =========================================\n",
        "# 3. Modelo base (Mistral 7B Instruct)\n",
        "# =========================================\n",
        "model_name = \"mistralai/Mistral-7B-Instruct-v0.2\"\n",
        "\n",
        "tokenizer = AutoTokenizer.from_pretrained(model_name)\n",
        "#It’s a Hugging Face method that loads the right tokenizer for a given model.\n",
        "#A tokenizer is what converts text into numbers (tokens) that the model understands, and back again\n",
        "model = AutoModelForCausalLM.from_pretrained(\n",
        "    model_name,#Model name\n",
        "    load_in_4bit=True,#Instead of loading the model in full 16-bit or 32-bit precision (which is huge in memory), it loads weights in 4-bit precision.\n",
        "    device_map=\"auto\" #Hugging Face will automatically place the model layers across available devices (GPUs/CPU).\n",
        ")\n",
        "\n",
        "# Preparar modelo para fine-tuning LoRA\n",
        "\"\"\"\n",
        "When a model is quantized (load_in_4bit=True or load_in_8bit=True), some layers are stored in compressed form.\n",
        "\n",
        "Standard LoRA training expects full-precision weights to hook into.\n",
        "\n",
        "prepare_model_for_kbit_training prepares the model so that LoRA can safely inject its trainable adapters, without messing up the quantized weights\n",
        "\"\"\"\n",
        "model = prepare_model_for_kbit_training(model)\n",
        "\n",
        "#LoRA = Low-Rank Adaptation.\n",
        "#Es una técnica de fine-tuning eficiente para LLMs, que permite adaptar un modelo grande a un nuevo dominio o estilo sin entrenar todos los parámetros.\n",
        "lora_config = LoraConfig(\n",
        "    r=8, #Rank de la matriz de adaptación\n",
        "    lora_alpha=16, #Factor de escala, ajusta la magnitud de los gradientes de LoRA\n",
        "    target_modules=[\"q_proj\",\"v_proj\"],#Aplica LoRA a las capas de query y value projection. Esto es típico en Transformers (atención), porque estas capas son las más críticas para el “comportamiento” del modelo.\n",
        "    lora_dropout=0.05, #Evitar overfitting\n",
        "    bias=\"none\",\n",
        "    task_type=\"CAUSAL_LM\" #predecir siguiente token\n",
        ")\n",
        "#Su objetivo es inyectar la adaptación LoRA dentro del modelo base, usando la configuración que definiste.\n",
        "model = get_peft_model(model, lora_config)"
      ],
      "metadata": {
        "id": "b5XygqGDVFEF"
      },
      "execution_count": null,
      "outputs": []
    },
    {
      "cell_type": "code",
      "source": [
        "# =========================================\n",
        "# 4. Dataset Joshua-like (ejemplo mini)\n",
        "# =========================================\n",
        "\n",
        "#get from github the dataset\n",
        "!wget https://raw.githubusercontent.com/AKRIS21/JGraham/main/jg_lines.json\n",
        "\n",
        "from datasets import load_dataset\n",
        "\n",
        "# Load dataset (assuming JSON)\n",
        "dataset = load_dataset(\"json\", data_files=\"jg_lines.json\")\n",
        "\n",
        "# Convert chat into plain text format (instruction/response style)\n",
        "def format_example(example):\n",
        "    user_msg = \"\"\n",
        "    assistant_msg = \"\"\n",
        "\n",
        "    for msg in example[\"messages\"]:\n",
        "        if msg[\"role\"] == \"user\":\n",
        "            user_msg = msg[\"content\"]\n",
        "        elif msg[\"role\"] == \"assistant\":\n",
        "            assistant_msg = msg[\"content\"]\n",
        "\n",
        "    return {\"text\": f\"User: {user_msg}\\nJoshua: {assistant_msg}\"}\n",
        "\n",
        "dataset = dataset.map(format_example)\n",
        "train_data = dataset[\"train\"]"
      ],
      "metadata": {
        "id": "WqAb2UjaVIut"
      },
      "execution_count": null,
      "outputs": []
    },
    {
      "cell_type": "code",
      "source": [
        "from google.colab import drive\n",
        "drive.mount('/content/drive')"
      ],
      "metadata": {
        "id": "M18l9oG0XXxt"
      },
      "execution_count": null,
      "outputs": []
    },
    {
      "cell_type": "code",
      "source": [
        "#=========================================\n",
        "# 5. Entrenamiento LoRA\n",
        "# =========================================\n",
        "training_args = TrainingArguments(\n",
        "    output_dir=\"./jgraham-lora\",\n",
        "    per_device_train_batch_size=2,\n",
        "    gradient_accumulation_steps=4,\n",
        "    learning_rate=2e-4,\n",
        "    num_train_epochs=3,\n",
        "    logging_steps=10,\n",
        "    save_strategy=\"epoch\",\n",
        "    fp16=True\n",
        ")\n",
        "\n",
        "trainer = Trainer(\n",
        "    model=model,\n",
        "    args=training_args,\n",
        "    train_dataset=train_data,\n",
        "    tokenizer=tokenizer\n",
        ")\n",
        "\n",
        "trainer.train()\n",
        "\n",
        "# Guardar LoRA en Drive\n",
        "model.save_pretrained(\"/content/drive/MyDrive/jgraham-lora\")"
      ],
      "metadata": {
        "id": "l2RIxKTpVaGR"
      },
      "execution_count": null,
      "outputs": []
    },
    {
      "cell_type": "code",
      "source": [
        "# =========================================\n",
        "# 6. Uso del modelo Vegeta\n",
        "# =========================================\n",
        "from peft import PeftModel\n",
        "\n",
        "base_model = AutoModelForCausalLM.from_pretrained(model_name, load_in_4bit=True, device_map=\"auto\")\n",
        "model = PeftModel.from_pretrained(base_model, \"/content/drive/MyDrive/jgraham-lora\")\n",
        "tokenizer = AutoTokenizer.from_pretrained(model_name)\n",
        "\n",
        "prompt = \"Usuario: No quiero hacer más, estoy cansado.\\nJoshua Graham:\"\n",
        "inputs = tokenizer(prompt, return_tensors=\"pt\").to(\"cuda\")\n",
        "outputs = model.generate(**inputs, max_new_tokens=80)\n",
        "print(tokenizer.decode(outputs[0], skip_special_tokens=True))"
      ],
      "metadata": {
        "id": "lzx-_NtfVhRQ"
      },
      "execution_count": null,
      "outputs": []
    }
  ]
}